{
 "cells": [
  {
   "cell_type": "markdown",
   "id": "fee18fe9",
   "metadata": {},
   "source": [
    "Content in this file was developed by Dr. Anastasia Angelopoulou."
   ]
  },
  {
   "cell_type": "markdown",
   "id": "4c99eeb4",
   "metadata": {},
   "source": [
    "# Linear Regression\n",
    "\n",
    "Simple Linear Regression (SLR) is a statistical method used to model the relationship between two continuous variables. These variable include a single independent variable (often denoted as X) and a dependent variable (often denoted as Y). This method aims to model and analyze how changes in one variable affect another. The core idea behind SLR is to fit a straight line to a set of data points in such a way that the distance between the line and the data points is minimized. "
   ]
  },
  {
   "cell_type": "code",
   "execution_count": 14,
   "id": "1040e8a2",
   "metadata": {},
   "outputs": [
    {
     "data": {
      "image/png": "[encoded data removed]",
      "text/plain": [
       "<Figure size 640x480 with 1 Axes>"
      ]
     },
     "metadata": {},
     "output_type": "display_data"
    },
    {
     "name": "stdout",
     "output_type": "stream",
     "text": [
      "R-squared value: 0.97\n",
      "Correlation Coefficient: 0.99\n",
      "Intercept (β0): 55.0\n",
      "Slope (β1): 6.0\n",
      "Predicted Exam Scores for New Study Hours:\n",
      "Study Hours: 7, Predicted Exam Score: 97.0\n",
      "Study Hours: 8, Predicted Exam Score: 103.0\n",
      "Study Hours: 9, Predicted Exam Score: 109.0\n",
      "Study hours show a moderate to strong linear relationship with exam scores.\n",
      "Using study hours as a predictor for exam scores might be feasible.\n"
     ]
    },
    {
     "name": "stderr",
     "output_type": "stream",
     "text": [
      "C:\\Users\\dcham\\AppData\\Local\\Packages\\PythonSoftwareFoundation.Python.3.12_qbz5n2kfra8p0\\LocalCache\\local-packages\\Python312\\site-packages\\sklearn\\base.py:486: UserWarning: X has feature names, but LinearRegression was fitted without feature names\n",
      "  warnings.warn(\n"
     ]
    }
   ],
   "source": [
    "# Import necessary libraries\n",
    "import pandas as pd\n",
    "import matplotlib.pyplot as plt\n",
    "from sklearn.linear_model import LinearRegression\n",
    "from sklearn.metrics import r2_score\n",
    "\n",
    "# Load the dataset\n",
    "data = {\n",
    "    'Study Hours': [2, 3, 4, 5, 6],\n",
    "    'Exam Scores': [65, 75, 80, 85, 90]\n",
    "}\n",
    "\n",
    "df = pd.DataFrame(data)\n",
    "\n",
    "# Visualize the relationship between study hours and exam scores\n",
    "plt.scatter(df['Study Hours'], df['Exam Scores'])\n",
    "plt.title('Study Hours vs Exam Scores')\n",
    "plt.xlabel('Study Hours')\n",
    "plt.ylabel('Exam Scores')\n",
    "plt.show()\n",
    "\n",
    "# Prepare data for Simple Linear Regression\n",
    "X = df['Study Hours'].values.reshape(-1, 1)  # Independent variable\n",
    "Y = df['Exam Scores'].values  # Dependent variable\n",
    "\n",
    "# Creating a Linear Regression model\n",
    "model = LinearRegression()\n",
    "\n",
    "# Fitting the model\n",
    "model.fit(X, Y)\n",
    "\n",
    "# Getting the coefficients (intercept and slope)\n",
    "intercept = model.intercept_\n",
    "slope = model.coef_[0]\n",
    "\n",
    "# Calculate R-squared value\n",
    "predicted_scores = model.predict(X)\n",
    "r_squared = r2_score(Y, predicted_scores)\n",
    "print(f\"R-squared value: {r_squared:.2f}\")\n",
    "\n",
    "# Calculate correlation coefficient\n",
    "# Note .corr requires two Series objects\n",
    "study_hours_series=pd.Series(data['Study Hours'])\n",
    "exam_scores_series=pd.Series(data['Exam Scores'])\n",
    "correlation = study_hours_series.corr(exam_scores_series)\n",
    "print(f\"Correlation Coefficient: {correlation:.2f}\")\n",
    "\n",
    "print(f\"Intercept (β0): {intercept}\")\n",
    "print(f\"Slope (β1): {slope}\")\n",
    "\n",
    "# Predicting exam scores for new study hour values\n",
    "new_study_hours = [7, 8, 9]\n",
    "predicted_scores = model.predict(pd.DataFrame(new_study_hours, columns=['Study Hours']))\n",
    "\n",
    "print(\"Predicted Exam Scores for New Study Hours:\")\n",
    "for i in range(len(new_study_hours)):\n",
    "    print(f\"Study Hours: {new_study_hours[i]}, Predicted Exam Score: {predicted_scores[i]}\")\n",
    "\n",
    "# Interpretation based on R-squared, correlation, and visual analysis\n",
    "if r_squared > 0.5 and abs(correlation) > 0.5:\n",
    "    print(\"Study hours show a moderate to strong linear relationship with exam scores.\")\n",
    "    print(\"Using study hours as a predictor for exam scores might be feasible.\")\n",
    "else:\n",
    "    print(\"The relationship between study hours and exam scores might be weak or non-linear.\")\n",
    "    print(\"Using study hours alone as a predictor might not be reliable.\")\n"
   ]
  }
 ],
 "metadata": {
  "kernelspec": {
   "display_name": "Python 3",
   "language": "python",
   "name": "python3"
  },
  "language_info": {
   "codemirror_mode": {
    "name": "ipython",
    "version": 3
   },
   "file_extension": ".py",
   "mimetype": "text/x-python",
   "name": "python",
   "nbconvert_exporter": "python",
   "pygments_lexer": "ipython3",
   "version": "3.12.7"
  }
 },
 "nbformat": 4,
 "nbformat_minor": 5
}
