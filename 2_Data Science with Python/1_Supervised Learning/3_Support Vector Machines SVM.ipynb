{
 "cells": [
  {
   "cell_type": "markdown",
   "id": "24a92923",
   "metadata": {},
   "source": [
    "Content in this file was developed by Dr. Anastasia Angelopoulou."
   ]
  },
  {
   "cell_type": "markdown",
   "id": "7c1f06ed",
   "metadata": {},
   "source": [
    "# Support Vector Machines\n",
    "\n",
    "**Principle:** SVM aims to find the hyperplane that best separates classes in a high-dimensional space. It maximizes the margin between classes to achieve robust classification.\n",
    "\n",
    "**Working Principle:**\n",
    "1.\t**Hyperplane Optimization:** SVM finds the hyperplane that maximizes the margin between the closest data points of different classes (support vectors).\n",
    "2.\t**Kernel Trick:** It can handle nonlinearly separable data by using kernel functions to map the data into higher-dimensional spaces where separation becomes feasible.\n",
    "\n",
    "**Fundamental Concepts:**\n",
    "- **Hyperplane and Margin:** SVM seeks to find the hyperplane that maximizes the margin between different classes. This margin represents robustness against classification errors.\n",
    "- **Kernel Trick:** The kernel function allows SVM to handle nonlinearly separable data by transforming it into higher-dimensional space where linear separation is possible.\n",
    "- **Application:** Effective in high-dimensional spaces, suitable for both linear and nonlinear classification.\n",
    "- **Strengths:** Works well with clear margin of separation, versatile due to different kernel functions.\n",
    "- **Considerations:** Computationally intensive, sensitive to the choice of kernel."
   ]
  },
  {
   "cell_type": "code",
   "execution_count": 1,
   "id": "3410be2a",
   "metadata": {},
   "outputs": [
    {
     "name": "stdout",
     "output_type": "stream",
     "text": [
      "SVM Accuracy: 1.0\n"
     ]
    }
   ],
   "source": [
    "from sklearn.datasets import load_iris\n",
    "from sklearn.svm import SVC\n",
    "from sklearn.model_selection import train_test_split\n",
    "from sklearn.metrics import accuracy_score\n",
    "\n",
    "# Load the iris dataset\n",
    "iris = load_iris()\n",
    "X_train, X_test, y_train, y_test = train_test_split(iris.data, iris.target, test_size=0.2, random_state=42)\n",
    "\n",
    "# Create an SVM classifier\n",
    "clf_svm = SVC(kernel='linear')\n",
    "clf_svm.fit(X_train, y_train)\n",
    "\n",
    "# Make predictions\n",
    "predictions_svm = clf_svm.predict(X_test)\n",
    "\n",
    "# Evaluate accuracy\n",
    "accuracy_svm = accuracy_score(y_test, predictions_svm)\n",
    "print(\"SVM Accuracy:\", accuracy_svm)"
   ]
  }
 ],
 "metadata": {
  "kernelspec": {
   "display_name": "Python 3",
   "language": "python",
   "name": "python3"
  },
  "language_info": {
   "codemirror_mode": {
    "name": "ipython",
    "version": 3
   },
   "file_extension": ".py",
   "mimetype": "text/x-python",
   "name": "python",
   "nbconvert_exporter": "python",
   "pygments_lexer": "ipython3",
   "version": "3.12.7"
  }
 },
 "nbformat": 4,
 "nbformat_minor": 5
}
