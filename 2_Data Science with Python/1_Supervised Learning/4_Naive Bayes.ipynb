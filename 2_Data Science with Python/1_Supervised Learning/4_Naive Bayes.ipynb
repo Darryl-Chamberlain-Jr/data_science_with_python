{
 "cells": [
  {
   "cell_type": "markdown",
   "id": "77b643ac",
   "metadata": {},
   "source": [
    "Content in this file was developed by Dr. Anastasia Angelopoulou. "
   ]
  },
  {
   "cell_type": "markdown",
   "id": "787d9324",
   "metadata": {},
   "source": [
    "# Naive Bayes\n",
    "\n",
    "**Principle:** Naive Bayes operates on Bayes' theorem with an assumption of independence among features. It calculates the probability of a given data point belonging to a particular class based on the probabilities of features.\n",
    "\n",
    "**Working Principle:**\n",
    "1.\t**Assumption of Independence:** Naive Bayes assumes that all features are independent of each other given the class label.\n",
    "2.\t**Probability Calculation:** It calculates the probability of a data point belonging to each class based on the probability of its features occurring in that class using Bayes' theorem.\n",
    "\n",
    "**Fundamental Concepts:**\n",
    "- **Bayes' Theorem:** The algorithm relies on Bayes' theorem to calculate the probability of a class given a set of features by incorporating prior probabilities and likelihoods.\n",
    "- **Assumption of Independence:** Despite its simplifying assumption, Naive Bayes can work well in practice, especially in text classification and spam filtering.\n",
    "- **Application:** Text classification, spam filtering, and sentiment analysis.\n",
    "- **Strengths:** Efficient, handles high-dimensional data, works well with small datasets.\n",
    "- **Considerations:** Assumes independence between features, can be overly simplistic for complex relationships.\n"
   ]
  },
  {
   "cell_type": "code",
   "execution_count": 1,
   "id": "afc74751",
   "metadata": {},
   "outputs": [
    {
     "name": "stdout",
     "output_type": "stream",
     "text": [
      "Naive Bayes Accuracy: 1.0\n"
     ]
    }
   ],
   "source": [
    "from sklearn.datasets import load_iris\n",
    "from sklearn.naive_bayes import GaussianNB\n",
    "from sklearn.model_selection import train_test_split\n",
    "from sklearn.metrics import accuracy_score\n",
    "\n",
    "# Load the iris dataset\n",
    "iris = load_iris()\n",
    "X_train, X_test, y_train, y_test = train_test_split(iris.data, iris.target, test_size=0.2, random_state=42)\n",
    "\n",
    "# Create a Naive Bayes classifier\n",
    "clf_nb = GaussianNB()\n",
    "clf_nb.fit(X_train, y_train)\n",
    "\n",
    "# Make predictions\n",
    "predictions_nb = clf_nb.predict(X_test)\n",
    "\n",
    "# Evaluate accuracy\n",
    "accuracy_nb = accuracy_score(y_test, predictions_nb)\n",
    "print(\"Naive Bayes Accuracy:\", accuracy_nb)"
   ]
  }
 ],
 "metadata": {
  "kernelspec": {
   "display_name": "Python 3",
   "language": "python",
   "name": "python3"
  },
  "language_info": {
   "codemirror_mode": {
    "name": "ipython",
    "version": 3
   },
   "file_extension": ".py",
   "mimetype": "text/x-python",
   "name": "python",
   "nbconvert_exporter": "python",
   "pygments_lexer": "ipython3",
   "version": "3.12.7"
  }
 },
 "nbformat": 4,
 "nbformat_minor": 5
}
