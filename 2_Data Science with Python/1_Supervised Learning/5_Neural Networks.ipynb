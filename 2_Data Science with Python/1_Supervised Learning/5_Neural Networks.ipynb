{
 "cells": [
  {
   "cell_type": "markdown",
   "id": "3cb71462",
   "metadata": {},
   "source": [
    "Content in this file was developed by Dr. Anastasia Angelopoulou. "
   ]
  },
  {
   "cell_type": "markdown",
   "id": "8bfef96e",
   "metadata": {},
   "source": [
    "# Neural Networks\n",
    "\n",
    "**Principle:** Neural networks learn complex patterns by simulating interconnected neurons and layers that process information.\n",
    "\n",
    "**Working Principle:**\n",
    "\n",
    "1.\t**Neurons and Layers:** A neural network comprises interconnected layers of neurons where each neuron processes input data and passes it through activation functions to generate output.\n",
    "2.\t**Forward and Backward Propagation:** Through forward propagation, data passes through the network, and during backpropagation, the network adjusts its weights based on the error to minimize it during training.\n",
    "\n",
    "**Fundamental Concepts:**\n",
    "- **Neurons and Activation Functions:** Neurons in neural networks simulate biological neurons, processing information and applying activation functions to introduce nonlinearity.\n",
    "- **Layers and Architectures:** Different architectures like feedforward, convolutional, or recurrent networks consist of interconnected layers like input, hidden, and output layers.\n",
    "- **Backpropagation:** This algorithm adjusts the weights in the network by calculating the gradient of the loss function with respect to the network's weights, allowing the network to learn from errors during training.\n",
    "- **Application:** Versatile across various domains, handling complex patterns.\n",
    "- **Strengths:** High learning capacity, capable of learning intricate nonlinear relationships.\n",
    "- **Considerations:** Requires large amounts of data, computational resources, and tuning of hyperparameters."
   ]
  }
 ],
 "metadata": {
  "kernelspec": {
   "display_name": "Python 3 (ipykernel)",
   "language": "python",
   "name": "python3"
  },
  "language_info": {
   "codemirror_mode": {
    "name": "ipython",
    "version": 3
   },
   "file_extension": ".py",
   "mimetype": "text/x-python",
   "name": "python",
   "nbconvert_exporter": "python",
   "pygments_lexer": "ipython3",
   "version": "3.11.3"
  }
 },
 "nbformat": 4,
 "nbformat_minor": 5
}
