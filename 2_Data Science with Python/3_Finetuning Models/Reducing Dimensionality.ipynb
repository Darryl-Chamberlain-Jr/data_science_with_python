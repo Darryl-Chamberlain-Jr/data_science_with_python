{
 "cells": [
  {
   "cell_type": "markdown",
   "id": "8cf0e145",
   "metadata": {},
   "source": [
    "## Reduce Complexity of Model\n",
    "As we've seen in creating Supervised and Unsupervised Machine Learning models, the number of predictors plays a large role in each model. The more predictors we have, the more complex the model and the higher risk of overfitting our training data in a way that is not predictive. So the major question is: how do we reduce the complexity of our model without indescriminantly throwing out data? "
   ]
  },
  {
   "cell_type": "markdown",
   "id": "ecc26ff6",
   "metadata": {},
   "source": [
    "## Feature Selection or Feature Projection?\n",
    "\n",
    "There are two general methods to reducing the number for features in your model: selection and projection. \n",
    "\n",
    "**Feature Selection** involves systematically choosing a smaller set of features to focus on and removing the rest. For example, consider our 13-feature wine dataset. One could systematically create Decision Tree models for every possible 4-feature combination *(715 combinations in total)* and compare the resulting five-fold cross-validation accuracy averages to determine the 4 features to keep. \n",
    "\n",
    "**Feature Projection** involves mathematically combining multiple features into new, singular \"Frankenstein\" features. Principal Component Analysis (PCA) is such a method, where the principal axes are linear combinations of multiple features. This still results in loss of data, but in a \"mathematically minimal\" way. Explaining the mathematics behind these methods is beyond the scope of this survey course and is best revisited after taking a Linear Algebra course."
   ]
  },
  {
   "cell_type": "markdown",
   "id": "028647ae",
   "metadata": {},
   "source": [
    "## Feature Selection Example - Combinatorial Optimization\n",
    "Let's write out the code to reduce our 13-feature wine dataset down to 2 features. "
   ]
  },
  {
   "cell_type": "code",
   "execution_count": 21,
   "id": "226530da",
   "metadata": {},
   "outputs": [],
   "source": [
    "import pandas as pd\n",
    "import numpy as np\n",
    "from sklearn.datasets import load_wine\n",
    "from sklearn.tree import DecisionTreeClassifier\n",
    "\n",
    "from itertools import combinations\n",
    "from sklearn.model_selection import cross_val_score"
   ]
  },
  {
   "cell_type": "code",
   "execution_count": 37,
   "id": "f6e2990f",
   "metadata": {},
   "outputs": [],
   "source": [
    "def create_all_feature_dicts(df, subset_n):\n",
    "    features = df.keys()\n",
    "    all_subsets = list(combinations(features, subset_n))\n",
    "\n",
    "    list_of_feature_dicts = []\n",
    "    name_index = 0\n",
    "    for subset in all_subsets:\n",
    "        temp_dict = {\n",
    "            'name': f'model_{name_index}',\n",
    "            'features': list(subset), \n",
    "            'reduced_df': df[list(subset)], \n",
    "            'target': wine.target,\n",
    "            'model': DecisionTreeClassifier()\n",
    "        }\n",
    "        list_of_feature_dicts.append(temp_dict)\n",
    "        name_index += 1\n",
    "\n",
    "    return list_of_feature_dicts\n",
    "\n",
    "def run_cross_val(dict, cv_n):\n",
    "    model = dict['model']\n",
    "    X = dict['reduced_df']\n",
    "    y = dict['target']\n",
    "    all_scores = cross_val_score(model, X, y, cv=cv_n)\n",
    "\n",
    "    dict['cross_val_scores'] = all_scores\n",
    "    dict['cross_val_avg'] = np.mean(all_scores)\n",
    "    return dict\n",
    "\n",
    "def return_selected_dict(list_of_dicts, name):\n",
    "    selected_dict = list(filter(lambda model: model['name'] == name, list_of_dicts))[0]\n",
    "    return selected_dict"
   ]
  },
  {
   "cell_type": "code",
   "execution_count": 51,
   "id": "b4c38178",
   "metadata": {},
   "outputs": [
    {
     "name": "stdout",
     "output_type": "stream",
     "text": [
      "Rank: 1\n",
      "Features: [6, 9]\n",
      "Cross-Validation Average: 91%\n",
      "\n",
      "Rank: 2\n",
      "Features: [0, 6]\n",
      "Cross-Validation Average: 89%\n",
      "\n",
      "Rank: 3\n",
      "Features: [9, 12]\n",
      "Cross-Validation Average: 88%\n",
      "\n",
      "Rank: 4\n",
      "Features: [10, 12]\n",
      "Cross-Validation Average: 87%\n",
      "\n",
      "Rank: 5\n",
      "Features: [9, 11]\n",
      "Cross-Validation Average: 87%\n",
      "\n",
      "Rank: 6\n",
      "Features: [11, 12]\n",
      "Cross-Validation Average: 85%\n",
      "\n",
      "Rank: 7\n",
      "Features: [5, 9]\n",
      "Cross-Validation Average: 85%\n",
      "\n",
      "Rank: 8\n",
      "Features: [0, 11]\n",
      "Cross-Validation Average: 84%\n",
      "\n",
      "Rank: 9\n",
      "Features: [4, 6]\n",
      "Cross-Validation Average: 83%\n",
      "\n",
      "Rank: 10\n",
      "Features: [6, 12]\n",
      "Cross-Validation Average: 82%\n",
      "\n"
     ]
    }
   ],
   "source": [
    "wine = load_wine()\n",
    "list_of_feature_dicts = create_all_feature_dicts(pd.DataFrame(wine.data), 2)\n",
    "\n",
    "list_of_cross_val_avg = []\n",
    "list_of_model_names = []\n",
    "\n",
    "for dict in list_of_feature_dicts:\n",
    "    dict = run_cross_val(dict, 5)\n",
    "    list_of_cross_val_avg.append(dict['cross_val_avg'])\n",
    "    list_of_model_names.append(dict['name'])\n",
    "\n",
    "sorted_model_names = [name for _, name in sorted(zip(list_of_cross_val_avg, list_of_model_names), reverse=True)]\n",
    "\n",
    "for index in range(0, 10):\n",
    "    model_name = sorted_model_names[index]\n",
    "    model_dict = return_selected_dict(list_of_feature_dicts, model_name)\n",
    "    print(f'Rank: {index+1}')\n",
    "    print(f'Features: {model_dict['features']}')\n",
    "    print(f'Cross-Validation Average: {int(model_dict['cross_val_avg']*100)}%')\n",
    "    print()"
   ]
  },
  {
   "cell_type": "markdown",
   "id": "6f100847",
   "metadata": {},
   "source": [
    "## Feature Projection Example - Linear Discriminant Analysis\n",
    "\n",
    "IBM hosts an *excellent* step-by-step description of Linear Discriminant Analysis (LDA): [https://developer.ibm.com/tutorials/awb-implementing-linear-discriminant-analysis-python/](https://developer.ibm.com/tutorials/awb-implementing-linear-discriminant-analysis-python/). Advanced users looking to see how to determine how many features to project onto should read through this resource."
   ]
  },
  {
   "cell_type": "code",
   "execution_count": 53,
   "id": "c93528a7",
   "metadata": {},
   "outputs": [
    {
     "name": "stdout",
     "output_type": "stream",
     "text": [
      "Accuracy: 97%\n"
     ]
    }
   ],
   "source": [
    "import numpy as np\n",
    "import pandas as pd\n",
    "\n",
    "from sklearn.datasets import load_wine\n",
    "from sklearn.model_selection import train_test_split\n",
    "from sklearn.discriminant_analysis import LinearDiscriminantAnalysis\n",
    "from sklearn.ensemble import RandomForestClassifier\n",
    "from sklearn.metrics import accuracy_score\n",
    "\n",
    "# Split the data set into training and testing sets\n",
    "wine = load_wine()\n",
    "X_train, X_test, y_train, y_test = train_test_split(wine.data, wine.target, test_size=0.2)\n",
    "\n",
    "# Apply Linear Discriminant Analysis\n",
    "# n_components cannot be more than min(n_features, n_classes - 1)\n",
    "# Since n_classes = 3, our n_components \n",
    "lda = LinearDiscriminantAnalysis(n_components=2) \n",
    "X_train = lda.fit_transform(X_train, y_train)\n",
    "X_test = lda.transform(X_test)\n",
    "\n",
    "classifier = RandomForestClassifier()\n",
    "classifier.fit(X_train, y_train)\n",
    "y_pred = classifier.predict(X_test)\n",
    "\n",
    "accuracy = accuracy_score(y_test, y_pred)\n",
    "\n",
    "#Display the accuracy\n",
    "print(f'Accuracy: {int(accuracy*100)}%')\n",
    "\n",
    "### STILL NEEDED - CREATE CROSS-VALIDATION"
   ]
  },
  {
   "cell_type": "code",
   "execution_count": null,
   "id": "29b13a63",
   "metadata": {},
   "outputs": [],
   "source": []
  }
 ],
 "metadata": {
  "kernelspec": {
   "display_name": "Python 3",
   "language": "python",
   "name": "python3"
  },
  "language_info": {
   "codemirror_mode": {
    "name": "ipython",
    "version": 3
   },
   "file_extension": ".py",
   "mimetype": "text/x-python",
   "name": "python",
   "nbconvert_exporter": "python",
   "pygments_lexer": "ipython3",
   "version": "3.12.10"
  }
 },
 "nbformat": 4,
 "nbformat_minor": 5
}
