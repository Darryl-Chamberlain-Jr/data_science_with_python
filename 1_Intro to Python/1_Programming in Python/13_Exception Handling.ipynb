{
 "cells": [
  {
   "cell_type": "markdown",
   "id": "b1f9ee87",
   "metadata": {},
   "source": [
    "# Exception Handling"
   ]
  },
  {
   "cell_type": "markdown",
   "id": "259be0e1",
   "metadata": {},
   "source": [
    "If you are expecting a potential error to occur but want the code to continue to run, try to use the except to make an exception. This is called **exception handling**. SyntaxErrors cannot be handled. Otherwise, any other error you might see can be handled. In fact, we can even define our own errors!\n",
    "\n",
    "Note: You won't need to do exception handling in this course, but it is good to understand what an exception is as it helps us read errors."
   ]
  },
  {
   "cell_type": "code",
   "execution_count": null,
   "id": "753649ea",
   "metadata": {},
   "outputs": [],
   "source": [
    "# 'class' is a new type of object that we won't cover in this course. Treat it like a special type of function.\n",
    "# If you want to make user-defined exceptions, this is the way to do it. \n",
    "class Negative_Exception(Exception):\n",
    "    'Raised when a negative integer is input.'\n",
    "    pass\n",
    "\n",
    "class Zero_Exception(Exception):\n",
    "    'Raised when 0 is input.'\n",
    "    pass\n",
    "\n",
    "# \n",
    "# A 'while' loop we created previously that was modified to catch three exceptions: two user and one built-in.\n",
    "# while True will run until a break occurs. Look ahead and you'll see the break occurs in line 48.\n",
    "while True:\n",
    "    # Do this. \n",
    "    # If there is an exception, go to that except line. \n",
    "    # Otherwise, finish the try and go to finally.\n",
    "    try:\n",
    "        # Since user_number will not be defined if an error occurs with input, \n",
    "        # we initially set user_number to be something we can track\n",
    "        user_number=''\n",
    "        user_number=int(input('Type any integer larger than 0. Your number: '))\n",
    "        \n",
    "        if user_number < 0:\n",
    "            # To say a user-defined exception occured, use raise\n",
    "            raise Negative_Exception\n",
    "        \n",
    "        elif user_number == 0:\n",
    "            # To say a user-defined exception occured, use raise\n",
    "            raise Zero_Exception\n",
    "    \n",
    "    # This only runs if the user-defined exception Negative_Exception is raised\n",
    "    except Negative_Exception:\n",
    "        print('Sorry, not a negative integer. We want an integer larger than 0.')\n",
    "        \n",
    "    # This only runs if the user-defined exception Zero_Exception is raised\n",
    "    except Zero_Exception:\n",
    "        print('Sorry, not 0. We want an integer larger than 0.')\n",
    "        \n",
    "    # This only runs if the input is not an integer (for example, if you typed a word).\n",
    "    except ValueError:\n",
    "        print(f'Please type an integer.')\n",
    "    \n",
    "    # This runs as long as there is no SynatxError in the code\n",
    "    finally:\n",
    "        # Since user_number will not be defined if an error occurs with input,\n",
    "        # we initially set user_number to be ''. \n",
    "        # Seeing '' here means the user put a non-integer and the while loop will continue.\n",
    "        if user_number == '':\n",
    "            print(\"You've got this!\\n\")\n",
    "        \n",
    "        # We got a positive integer! We use break to exit the while loop.\n",
    "        elif user_number > 0:\n",
    "            print(f'Thank you for your integer. I will take good care of {user_number}.\\n')\n",
    "            break\n",
    "        \n",
    "        # We got either 0 or a negative integer. The while loop will continue.\n",
    "        else:\n",
    "            print(\"Try again. You've got this!\\n\")"
   ]
  }
 ],
 "metadata": {
  "kernelspec": {
   "display_name": "Python 3",
   "language": "python",
   "name": "python3"
  },
  "language_info": {
   "codemirror_mode": {
    "name": "ipython",
    "version": 3
   },
   "file_extension": ".py",
   "mimetype": "text/x-python",
   "name": "python",
   "nbconvert_exporter": "python",
   "pygments_lexer": "ipython3",
   "version": "3.13.0"
  }
 },
 "nbformat": 4,
 "nbformat_minor": 5
}
