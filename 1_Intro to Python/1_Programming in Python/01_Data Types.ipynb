{
 "cells": [
  {
   "cell_type": "markdown",
   "id": "2e8db044",
   "metadata": {},
   "source": [
    "# Introduction\n",
    "\n",
    "In this lesson, we will learn the absolute fundamentals to get you coding. First, we introduce Jupyter Notebook - a web application that can interpret many different types of programming languages. In the top-right, we see it is running Python 3. At the end of the course, we will download a new language and work with it in Jupyter Notebook. For now, we learn the fundamentals of programming for Data Science using Python. "
   ]
  },
  {
   "cell_type": "markdown",
   "id": "a3ede6e4",
   "metadata": {},
   "source": [
    "When you click the \"+\" button, you create a new cell. These cells will run code separately and is helpful for working on bite-size pieces of code at a time. **Try running the cell below by clicking in the cell and then pressing the 'Run' button.**"
   ]
  },
  {
   "cell_type": "code",
   "execution_count": null,
   "id": "84fbcffb",
   "metadata": {},
   "outputs": [],
   "source": [
    "print(\"Hello World!\")"
   ]
  },
  {
   "cell_type": "markdown",
   "id": "efa809d3",
   "metadata": {},
   "source": [
    "You can see that different words in the cell are different colors. This is to help us keep track of what is happening. The word 'print' is in green because it is a **function** and the words 'Hello World!' are in red because it is a **string**. "
   ]
  },
  {
   "cell_type": "markdown",
   "id": "b1612ff2",
   "metadata": {},
   "source": [
    "# Fundamental Data Structures\n",
    "\n",
    "**A *string* is a sequence of characters and is referred to as a *str*.** We declare strings with either ' ' or \" \". Notice in our previous example, we had Hello World in parentheses. \n",
    "\n",
    "**An *integer* is a whole number and is referred to as an *int*.** Python understands that if we write a whole number without parentheses, we mean an integer. \n",
    "\n",
    "**A *float* is a real number with some decimal expansion and is referred to as a *float*.** Python understands that if we write a number with a decimal, we are dealing with floats.\n",
    "\n",
    "**A *function* takes in some data structure and outputs something else.** In our previous example, the *print* function takes in some data structure and prints it to the screen. \n",
    "\n",
    "**A *variable* is a symbolic name for some object.** This could be something as simple as \"x=33\" or \"word='apple'\".\n",
    "\n",
    "**A *list* is a collection of objects IN ORDER defined using brackets.** For example, \"[a, b, c]\". Anything can be part of a list, even more lists! These are called **nested lists**. \"[[a_1, a_2], \"Words words words\", 49]\" \n",
    "\n",
    "**A *set* is a collection of unique objects defined using braces.** For example, \"{a, b, c}\". Unlike lists, sets will throw away duplicates and is inherently unordered. "
   ]
  },
  {
   "cell_type": "markdown",
   "id": "97c71579",
   "metadata": {},
   "source": [
    "## Let's test some examples below to make sure we understand. Before running each cell, try to predict what the outcome will be."
   ]
  },
  {
   "cell_type": "code",
   "execution_count": null,
   "id": "9922acac",
   "metadata": {},
   "outputs": [],
   "source": [
    "example_string='Hello, I am an example string. The number 49 is larger than 21.'\n",
    "print(example_string)\n",
    "print(type(example_string)) # type() function takes in a data structure and outputs its type"
   ]
  },
  {
   "cell_type": "code",
   "execution_count": null,
   "id": "d6a25840",
   "metadata": {},
   "outputs": [],
   "source": [
    "print('33')\n",
    "print(type('33'))\n",
    "print()\n",
    "print(33)\n",
    "print(type(33))\n",
    "print()\n",
    "print(\"Notice when you print a string made of an integer, you can't tell whether the computer is reading it as an integer or string!\")"
   ]
  },
  {
   "cell_type": "code",
   "execution_count": null,
   "id": "f25be2f2",
   "metadata": {},
   "outputs": [],
   "source": [
    "example_float=3/7\n",
    "print(example_float)\n",
    "print(type(example_float))"
   ]
  }
 ],
 "metadata": {
  "kernelspec": {
   "display_name": "Python 3",
   "language": "python",
   "name": "python3"
  },
  "language_info": {
   "codemirror_mode": {
    "name": "ipython",
    "version": 3
   },
   "file_extension": ".py",
   "mimetype": "text/x-python",
   "name": "python",
   "nbconvert_exporter": "python",
   "pygments_lexer": "ipython3",
   "version": "3.12.10"
  }
 },
 "nbformat": 4,
 "nbformat_minor": 5
}
