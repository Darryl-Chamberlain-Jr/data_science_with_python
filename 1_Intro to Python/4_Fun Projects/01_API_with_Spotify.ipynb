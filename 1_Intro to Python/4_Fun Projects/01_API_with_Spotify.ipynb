{
 "cells": [
  {
   "cell_type": "markdown",
   "id": "2e8db044",
   "metadata": {},
   "source": [
    "# Introduction to APIs "
   ]
  },
  {
   "cell_type": "markdown",
   "id": "d245403a",
   "metadata": {},
   "source": [
    "## Setup\n",
    "\n",
    "Complete the \"Getting started\" here: https://developer.spotify.com/documentation/web-api"
   ]
  },
  {
   "cell_type": "markdown",
   "id": "ebe56e6d",
   "metadata": {},
   "source": [
    "### Collecting Secrets\n",
    "Rather than keeping secrets where they might be accidentally shared, we will call them from a special file outside of our GitHub repos. "
   ]
  },
  {
   "cell_type": "code",
   "execution_count": null,
   "id": "2c534f78",
   "metadata": {},
   "outputs": [],
   "source": [
    "import pandas as pd\n",
    "import os\n",
    "\n",
    "secrets_location = \"../../../../Secrets/secrets_for_github.xlsx\"\n",
    "secrets_db = pd.read_excel(secrets_location)\n",
    "\n",
    "os.environ['SPOTIPY_CLIENT_ID'] = secrets_db.loc[secrets_db[\"code_name\"] == \"spotify_cid\"][\"code\"].values.item()\n",
    "os.environ['SPOTIPY_CLIENT_SECRET'] = secrets_db.loc[secrets_db[\"code_name\"] == \"spotify_secret\"][\"code\"].values.item()\n",
    "os.environ['SPOTIPY_REDIRECT_URI'] = \"http://localhost:8888/callback\""
   ]
  },
  {
   "cell_type": "markdown",
   "id": "8a60fc07",
   "metadata": {},
   "source": [
    "### Authorize\n",
    "Follow the instructions here: https://spotipy.readthedocs.io/en/2.24.0/#authorization-code-flow\n",
    "\n",
    "Be sure to install spotipy via Command Prompt/Terminal with \n",
    "> pip install spotipy"
   ]
  },
  {
   "cell_type": "code",
   "execution_count": null,
   "id": "ce8ad3ae",
   "metadata": {},
   "outputs": [],
   "source": [
    "import spotipy\n",
    "from spotipy.oauth2 import SpotifyClientCredentials\n",
    "import spotipy.util as util"
   ]
  },
  {
   "cell_type": "code",
   "execution_count": null,
   "id": "170f5702",
   "metadata": {},
   "outputs": [],
   "source": [
    "username = \"\"\n",
    "client_credentials_manager = SpotifyClientCredentials() \n",
    "sp = spotipy.Spotify(client_credentials_manager=client_credentials_manager)\n",
    "\n",
    "scope = \"user-top-read\"\n",
    "token = util.prompt_for_user_token(username, scope)"
   ]
  },
  {
   "cell_type": "code",
   "execution_count": null,
   "id": "4a2e0195",
   "metadata": {},
   "outputs": [],
   "source": [
    "def extract_artist_name(row):\n",
    "    full_artist_info = row[\"artists\"]\n",
    "    artist_list = [full_artist_info[index][\"name\"] for index in range(0, len(full_artist_info))]\n",
    "    return artist_list"
   ]
  },
  {
   "cell_type": "code",
   "execution_count": null,
   "id": "6314f46f",
   "metadata": {},
   "outputs": [],
   "source": [
    "sp = spotipy.Spotify(auth=token)\n",
    "results = sp.current_user_top_tracks(limit=50,offset=0,time_range='long_term')\n",
    "\n",
    "full_items_df = pd.DataFrame([item for item in results[\"items\"]])\n",
    "items_df = pd.DataFrame([item for item in results[\"items\"]])[[\"artists\", \"name\", \"popularity\"]]\n",
    "items_df[\"artist_name\"] = items_df.apply(extract_artist_name, axis=1)\n",
    "items_df = items_df.explode(\"artist_name\")\n",
    "items_df = items_df[[\"artist_name\", \"name\", \"popularity\"]]"
   ]
  },
  {
   "cell_type": "code",
   "execution_count": null,
   "id": "a71bca3e",
   "metadata": {},
   "outputs": [],
   "source": [
    "items_df"
   ]
  },
  {
   "cell_type": "code",
   "execution_count": null,
   "id": "338c4d5a",
   "metadata": {},
   "outputs": [],
   "source": [
    "full_items_df.keys()"
   ]
  },
  {
   "cell_type": "code",
   "execution_count": null,
   "id": "d338a689",
   "metadata": {},
   "outputs": [],
   "source": [
    "import matplotlib.pyplot as plt\n",
    "import seaborn as sb"
   ]
  },
  {
   "cell_type": "code",
   "execution_count": null,
   "id": "c2ccf16c",
   "metadata": {},
   "outputs": [],
   "source": [
    "def encode_artist_names(row):\n",
    "    return row[\"artist_name\"].encode(\"ascii\",errors=\"ignore\")"
   ]
  },
  {
   "cell_type": "code",
   "execution_count": null,
   "id": "2a6a29e7",
   "metadata": {},
   "outputs": [],
   "source": [
    "more_than_1_series = items_df[\"artist_name\"].value_counts()\n",
    "top_artists_series = more_than_1_series[more_than_1_series > 1]\n",
    "top_artists_df = pd.DataFrame({\"artist_name\": top_artists_series.index, \"song_count\": top_artists_series.values})\n",
    "top_artists_df[\"artist_name\"] = top_artists_df.apply(encode_artist_names, axis=1)\n",
    "print(top_artists_df)"
   ]
  },
  {
   "cell_type": "code",
   "execution_count": null,
   "id": "c1553b6f",
   "metadata": {},
   "outputs": [],
   "source": [
    "ax = sb.histplot(data=top_artists_df, weights=\"song_count\", y=\"artist_name\")\n",
    "\n",
    "# Forces axes to be unlabled\n",
    "ax.set_ylabel('')    \n",
    "ax.set_xlabel('')\n",
    "\n",
    "ax.set_title('Songs per Artist in Top 50', fontsize=16, fontweight='heavy')\n",
    "\n",
    "plt.savefig('top50_songs_per_artist.jpg', bbox_inches=\"tight\")"
   ]
  }
 ],
 "metadata": {
  "kernelspec": {
   "display_name": "Python 3",
   "language": "python",
   "name": "python3"
  },
  "language_info": {
   "codemirror_mode": {
    "name": "ipython",
    "version": 3
   },
   "file_extension": ".py",
   "mimetype": "text/x-python",
   "name": "python",
   "nbconvert_exporter": "python",
   "pygments_lexer": "ipython3",
   "version": "3.12.7"
  }
 },
 "nbformat": 4,
 "nbformat_minor": 5
}
