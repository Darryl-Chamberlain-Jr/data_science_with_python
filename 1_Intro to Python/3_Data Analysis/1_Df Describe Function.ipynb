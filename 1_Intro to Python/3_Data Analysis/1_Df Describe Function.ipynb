{
 "cells": [
  {
   "cell_type": "markdown",
   "id": "054e5641",
   "metadata": {},
   "source": [
    "# Descriptive Statistics with Python"
   ]
  },
  {
   "cell_type": "markdown",
   "id": "902c5c54",
   "metadata": {},
   "source": [
    "**df.describe()** Quick statistics by column"
   ]
  },
  {
   "cell_type": "code",
   "execution_count": 39,
   "id": "274ffdd2",
   "metadata": {},
   "outputs": [],
   "source": [
    "import numpy as np\n",
    "import pandas as pd\n",
    "\n",
    "dataframe = pd.read_excel(\"all_data_M_2021.xlsx\")"
   ]
  },
  {
   "cell_type": "code",
   "execution_count": null,
   "id": "728b91cc",
   "metadata": {},
   "outputs": [],
   "source": [
    "dataframe.head()"
   ]
  },
  {
   "cell_type": "code",
   "execution_count": null,
   "id": "9d0ec901",
   "metadata": {},
   "outputs": [],
   "source": [
    "number_of_rows = len(dataframe)\n",
    "print(f'Dataframe has {number_of_rows} rows.')"
   ]
  },
  {
   "cell_type": "code",
   "execution_count": null,
   "id": "3ff809f9",
   "metadata": {},
   "outputs": [],
   "source": [
    "dataframe.describe()"
   ]
  },
  {
   "cell_type": "code",
   "execution_count": 40,
   "id": "c95c533b",
   "metadata": {},
   "outputs": [],
   "source": [
    "columns_to_modify = ['H_MEAN', 'A_MEAN', 'MEAN_PRSE', 'H_PCT10', \n",
    "                     'H_PCT25', 'H_MEDIAN', 'H_PCT75', 'H_PCT90', \n",
    "                     'A_PCT10', 'A_PCT25', 'A_MEDIAN', 'A_PCT75', \n",
    "                     'A_PCT90'\n",
    "                    ]\n",
    "\n",
    "# Splits columns by number type wanted\n",
    "int_columns = ['A_MEAN', 'A_PCT10', 'A_PCT25', 'A_MEDIAN', 'A_PCT75', 'A_PCT90']\n",
    "float_columns = ['H_MEAN', 'MEAN_PRSE', 'H_PCT10', 'H_PCT25', 'H_MEDIAN', 'H_PCT75', 'H_PCT90']\n",
    "\n",
    "# Initialize dict of column and its type\n",
    "dict_column_and_type = {}\n",
    "\n",
    "# Attach column name with the data type\n",
    "for column_name in columns_to_modify:\n",
    "    if column_name in int_columns:\n",
    "        # 'Int64' is needed when mixing ints with pandas.NA\n",
    "        dict_column_and_type[column_name] = 'Int64'\n",
    "    else:\n",
    "        # 'Float64' is needed when mixing floats with pandas.NA\n",
    "        dict_column_and_type[column_name] = 'Float64'\n",
    "        \n",
    "# To use .apply, we want the input of the definition to be the value in the table\n",
    "def remove_commas(text):\n",
    "    return text.replace(\",\", \"\")\n",
    "\n",
    "def replace_symbols(text):\n",
    "    # pandas.NA is Not a Number\n",
    "    new_text = text.replace(\"*\", pd.NA)\n",
    "    new_text = new_text.replace(\"#\", pd.NA)\n",
    "    new_text = new_text.replace(np.nan, pd.NA)\n",
    "    return new_text"
   ]
  },
  {
   "cell_type": "code",
   "execution_count": 48,
   "id": "67a9b53b",
   "metadata": {},
   "outputs": [],
   "source": [
    "# Initialize our sanitized dataframe\n",
    "sanitized_df = dataframe\n",
    "\n",
    "# Apply our two functions\n",
    "sanitized_df[columns_to_modify] = sanitized_df[columns_to_modify].apply(remove_commas)\n",
    "sanitized_df[columns_to_modify] = sanitized_df[columns_to_modify].apply(replace_symbols)\n",
    "\n",
    "# Using the dictonary, we cast each column as its associated data type\n",
    "sanitized_df = sanitized_df.astype(dict_column_and_type)"
   ]
  },
  {
   "cell_type": "code",
   "execution_count": null,
   "id": "33d23a29",
   "metadata": {},
   "outputs": [],
   "source": [
    "sanitized_df.describe()"
   ]
  }
 ],
 "metadata": {
  "kernelspec": {
   "display_name": "Python 3 (ipykernel)",
   "language": "python",
   "name": "python3"
  },
  "language_info": {
   "codemirror_mode": {
    "name": "ipython",
    "version": 3
   },
   "file_extension": ".py",
   "mimetype": "text/x-python",
   "name": "python",
   "nbconvert_exporter": "python",
   "pygments_lexer": "ipython3",
   "version": "3.11.3"
  }
 },
 "nbformat": 4,
 "nbformat_minor": 5
}
